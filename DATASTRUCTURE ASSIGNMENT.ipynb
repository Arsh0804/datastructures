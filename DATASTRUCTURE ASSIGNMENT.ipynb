{
 "cells": [
  {
   "cell_type": "code",
   "execution_count": null,
   "id": "e99974a0-b1fc-4a6b-aff0-b81c589e8fc9",
   "metadata": {},
   "outputs": [],
   "source": [
    "                                                       #DATA STRUCTURE"
   ]
  },
  {
   "cell_type": "code",
   "execution_count": 2,
   "id": "225f5421-a743-4aef-9778-19ebe5c89e83",
   "metadata": {},
   "outputs": [
    {
     "name": "stdout",
     "output_type": "stream",
     "text": [
      "Original String: Hello, World!\n",
      "Reversed String: !dlroW ,olleH\n"
     ]
    }
   ],
   "source": [
    "#Q1. Write a code to reverse a string?\n",
    "\n",
    "def reverse_string(s):\n",
    "    return s[::-1]\n",
    "\n",
    "# Example usage\n",
    "original_string = \"Hello, World!\"\n",
    "reversed_string = reverse_string(original_string)\n",
    "print(\"Original String:\", original_string)\n",
    "print(\"Reversed String:\", reversed_string)\n"
   ]
  },
  {
   "cell_type": "code",
   "execution_count": 4,
   "id": "d535bfac-017c-4594-9b20-c64604b103fa",
   "metadata": {},
   "outputs": [
    {
     "name": "stdout",
     "output_type": "stream",
     "text": [
      "The number of vowels in 'Hello, World!' is 3.\n"
     ]
    }
   ],
   "source": [
    "#Q2. Write a code to count the number of vowels in a string?\n",
    "\n",
    "def count_vowels(s):\n",
    "    # Define the vowels\n",
    "    vowels = \"aeiouAEIOU\"\n",
    "    count = 0\n",
    "\n",
    "    # Count vowels\n",
    "    for char in s:\n",
    "        if char in vowels:\n",
    "            count += 1\n",
    "\n",
    "    return count\n",
    "\n",
    "# Example usage\n",
    "input_string = \"Hello, World!\"\n",
    "vowel_count = count_vowels(input_string)\n",
    "print(f\"The number of vowels in '{input_string}' is {vowel_count}.\")\n"
   ]
  },
  {
   "cell_type": "code",
   "execution_count": 6,
   "id": "fb0094b0-ce9c-4c42-9dea-1a6b1318c8d6",
   "metadata": {},
   "outputs": [
    {
     "name": "stdout",
     "output_type": "stream",
     "text": [
      "'A man, a plan, a canal, Panama' is a palindrome.\n"
     ]
    }
   ],
   "source": [
    "#Q3. Write a code to check if a given string is a palindrome or not?\n",
    "\n",
    "def is_palindrome(s):\n",
    "    # Remove spaces and convert to lowercase for uniformity\n",
    "    cleaned_string = ''.join(char.lower() for char in s if char.isalnum())\n",
    "    \n",
    "    # Check if the cleaned string is equal to its reverse\n",
    "    return cleaned_string == cleaned_string[::-1]\n",
    "\n",
    "# Example usage\n",
    "input_string = \"A man, a plan, a canal, Panama\"\n",
    "result = is_palindrome(input_string)\n",
    "if result:\n",
    "    print(f\"'{input_string}' is a palindrome.\")\n",
    "else:\n",
    "    print(f\"'{input_string}' is not a palindrome.\")\n"
   ]
  },
  {
   "cell_type": "code",
   "execution_count": 8,
   "id": "a90dc95a-a520-4e15-9914-48f25b07a137",
   "metadata": {},
   "outputs": [
    {
     "name": "stdout",
     "output_type": "stream",
     "text": [
      "'Listen' and 'Silent' are anagrams.\n"
     ]
    }
   ],
   "source": [
    "#Q4. Write a code to check if two given strings are anagrams of each other\u0012\n",
    "\n",
    "def are_anagrams(str1, str2):\n",
    "    # Remove spaces and convert to lowercase for uniformity\n",
    "    cleaned_str1 = ''.join(char.lower() for char in str1 if char.isalnum())\n",
    "    cleaned_str2 = ''.join(char.lower() for char in str2 if char.isalnum())\n",
    "    \n",
    "    # Check if the sorted versions of the cleaned strings are equal\n",
    "    return sorted(cleaned_str1) == sorted(cleaned_str2)\n",
    "\n",
    "# Example usage\n",
    "string1 = \"Listen\"\n",
    "string2 = \"Silent\"\n",
    "result = are_anagrams(string1, string2)\n",
    "if result:\n",
    "    print(f\"'{string1}' and '{string2}' are anagrams.\")\n",
    "else:\n",
    "    print(f\"'{string1}' and '{string2}' are not anagrams.\")\n"
   ]
  },
  {
   "cell_type": "code",
   "execution_count": 10,
   "id": "ace86d2f-7465-4b15-b03f-bcd98f976bcc",
   "metadata": {},
   "outputs": [
    {
     "name": "stdout",
     "output_type": "stream",
     "text": [
      "All occurrences of 'is' in 'This is a test. This test is simple.': [2, 5, 18, 26]\n"
     ]
    }
   ],
   "source": [
    "#Q5. Write a code to find all occurrences of a given substring within another string?\n",
    "\n",
    "def find_all_occurrences(main_string, substring):\n",
    "    indices = []\n",
    "    start = 0\n",
    "    while True:\n",
    "        start = main_string.find(substring, start)\n",
    "        if start == -1:\n",
    "            break\n",
    "        indices.append(start)\n",
    "        start += len(substring)  # Move past the last found substring\n",
    "    return indices\n",
    "\n",
    "# Example usage\n",
    "main_string = \"This is a test. This test is simple.\"\n",
    "substring = \"is\"\n",
    "occurrences = find_all_occurrences(main_string, substring)\n",
    "print(f\"All occurrences of '{substring}' in '{main_string}': {occurrences}\")\n"
   ]
  },
  {
   "cell_type": "code",
   "execution_count": 12,
   "id": "094c4c84-5af4-4fd5-8418-1d9bc7c62be9",
   "metadata": {},
   "outputs": [
    {
     "name": "stdout",
     "output_type": "stream",
     "text": [
      "Original String: aabcccccaaa\n",
      "Compressed String: a2b1c5a3\n"
     ]
    }
   ],
   "source": [
    "#Q6. Write a code to perform basic string compression using the counts of repeated characters?\n",
    "\n",
    "def compress_string(s):\n",
    "    # Check for empty string\n",
    "    if not s:\n",
    "        return \"\"\n",
    "\n",
    "    compressed = []\n",
    "    count = 1\n",
    "\n",
    "    # Iterate through the string\n",
    "    for i in range(1, len(s)):\n",
    "        if s[i] == s[i - 1]:\n",
    "            count += 1\n",
    "        else:\n",
    "            compressed.append(s[i - 1] + str(count))\n",
    "            count = 1\n",
    "\n",
    "    # Append the last group of characters\n",
    "    compressed.append(s[-1] + str(count))\n",
    "\n",
    "    # Join the compressed list into a string\n",
    "    compressed_string = ''.join(compressed)\n",
    "    \n",
    "    # Return the shorter of the original string and the compressed string\n",
    "    return compressed_string if len(compressed_string) < len(s) else s\n",
    "\n",
    "# Example usage\n",
    "input_string = \"aabcccccaaa\"\n",
    "compressed_string = compress_string(input_string)\n",
    "print(\"Original String:\", input_string)\n",
    "print(\"Compressed String:\", compressed_string)\n"
   ]
  },
  {
   "cell_type": "code",
   "execution_count": 14,
   "id": "190042bd-ad96-4605-b147-7e261d3d0c85",
   "metadata": {},
   "outputs": [],
   "source": [
    "#Q7.Write a code to determine if a string has all unique characters ?\n",
    "\n",
    "\n",
    "def has_unique_characters(s):\n",
    "    # Use a set to keep track of characters\n",
    "    char_set = set()\n",
    "    \n",
    "    for char in s:\n",
    "        if char in char_set:\n",
    "            return False  # Duplicate character found\n",
    "        char_set.add(char)\n",
    "    \n",
    "    return True  # All characters are unique\n",
    "\n",
    "# Example usage\n",
    "input_string = \"abcdefg\"\n",
    "result = has_unique_characters(input_string)\n",
    "print(f\"Does '{input_string}' have all unique characters? {result}\")\n",
    "\n",
    "input_string = \"hello\"\n",
    "result = has_unique_characters(input_string)\n",
    "print(f\"Does '{input_string}' have all unique characters? {result}\")\n"
   ]
  },
  {
   "cell_type": "code",
   "execution_count": 16,
   "id": "9642ef50-9ef4-4a77-9c8a-b8e904bab4f8",
   "metadata": {},
   "outputs": [
    {
     "name": "stdout",
     "output_type": "stream",
     "text": [
      "Original String: Hello, World!\n",
      "Uppercase String: HELLO, WORLD!\n",
      "Lowercase String: hello, world!\n"
     ]
    }
   ],
   "source": [
    "#Q8. Write a code to convert a given string to uppercase or lowercase?\n",
    "\n",
    "def to_uppercase(s):\n",
    "    return s.upper()\n",
    "\n",
    "def to_lowercase(s):\n",
    "    return s.lower()\n",
    "\n",
    "# Example usage\n",
    "input_string = \"Hello, World!\"\n",
    "\n",
    "# Convert to uppercase\n",
    "uppercase_string = to_uppercase(input_string)\n",
    "print(\"Original String:\", input_string)\n",
    "print(\"Uppercase String:\", uppercase_string)\n",
    "\n",
    "# Convert to lowercase\n",
    "lowercase_string = to_lowercase(input_string)\n",
    "print(\"Lowercase String:\", lowercase_string)\n"
   ]
  },
  {
   "cell_type": "code",
   "execution_count": 18,
   "id": "1dcc6c6b-fc04-493e-9586-19f363398b9a",
   "metadata": {},
   "outputs": [
    {
     "name": "stdout",
     "output_type": "stream",
     "text": [
      "Input String: Hello, this is a test string.\n",
      "Number of Words: 6\n"
     ]
    }
   ],
   "source": [
    "#Q9. Write a code to count the number of words in a string?\n",
    "\n",
    "def count_words(s):\n",
    "    # Split the string into words\n",
    "    words = s.split()\n",
    "    # Return the number of words\n",
    "    return len(words)\n",
    "\n",
    "# Example usage\n",
    "input_string = \"Hello, this is a test string.\"\n",
    "word_count = count_words(input_string)\n",
    "print(\"Input String:\", input_string)\n",
    "print(\"Number of Words:\", word_count)\n"
   ]
  },
  {
   "cell_type": "code",
   "execution_count": null,
   "id": "bfaa9485-98cb-4f94-bdd4-0b86bf3032ca",
   "metadata": {},
   "outputs": [],
   "source": [
    "#Q10. Write a code to concatenate two strings without using the + operator?\n",
    "\n",
    "def concatenate_strings(str1, str2):\n",
    "    return ''.join([str1, str2])\n",
    "\n",
    "# Example usage\n",
    "string1 = \"Hello, \"\n",
    "string2 = \"World!\"\n",
    "result = concatenate_strings(string1, string2)\n",
    "print(\"Concatenated String:\", result)\n"
   ]
  },
  {
   "cell_type": "code",
   "execution_count": 20,
   "id": "5617e086-0045-402b-b333-5205dbb26354",
   "metadata": {},
   "outputs": [
    {
     "name": "stdout",
     "output_type": "stream",
     "text": [
      "Original List: [1, 2, 3, 2, 4, 2, 5]\n",
      "Element to Remove: 2\n",
      "List after Removing Element: [1, 3, 4, 5]\n"
     ]
    }
   ],
   "source": [
    "#Q11. Write a code to remove all occurrences of a specific element from a list?\n",
    "\n",
    "def remove_all_occurrences(lst, element):\n",
    "    return [x for x in lst if x != element]\n",
    "\n",
    "# Example usage\n",
    "input_list = [1, 2, 3, 2, 4, 2, 5]\n",
    "element_to_remove = 2\n",
    "result = remove_all_occurrences(input_list, element_to_remove)\n",
    "print(\"Original List:\", input_list)\n",
    "print(\"Element to Remove:\", element_to_remove)\n",
    "print(\"List after Removing Element:\", result)\n"
   ]
  },
  {
   "cell_type": "code",
   "execution_count": 22,
   "id": "84af5c8d-3f0d-44e5-aa03-4b28e26b810b",
   "metadata": {},
   "outputs": [
    {
     "name": "stdout",
     "output_type": "stream",
     "text": [
      "Input List: [10, 20, 4, 45, 99, 22]\n",
      "Second Largest Number: 45\n"
     ]
    }
   ],
   "source": [
    "#Q12. Implement a code to find the second largest number in a given list of integers?\n",
    "\n",
    "def find_second_largest(numbers):\n",
    "    # Check if the list has fewer than 2 elements\n",
    "    if len(numbers) < 2:\n",
    "        return None\n",
    "\n",
    "    # Initialize the first and second largest numbers\n",
    "    first_largest = second_largest = float('-inf')\n",
    "\n",
    "    # Iterate through the list\n",
    "    for number in numbers:\n",
    "        if number > first_largest:\n",
    "            second_largest = first_largest\n",
    "            first_largest = number\n",
    "        elif first_largest > number > second_largest:\n",
    "            second_largest = number\n",
    "\n",
    "    # If second_largest is still '-inf', there was no second largest value\n",
    "    if second_largest == float('-inf'):\n",
    "        return None\n",
    "\n",
    "    return second_largest\n",
    "\n",
    "# Example usage\n",
    "input_list = [10, 20, 4, 45, 99, 22]\n",
    "second_largest_number = find_second_largest(input_list)\n",
    "print(\"Input List:\", input_list)\n",
    "print(\"Second Largest Number:\", second_largest_number)\n"
   ]
  },
  {
   "cell_type": "code",
   "execution_count": 24,
   "id": "70472d8c-425a-4183-9ab7-3ae439579c21",
   "metadata": {},
   "outputs": [
    {
     "name": "stdout",
     "output_type": "stream",
     "text": [
      "Input List: [1, 2, 2, 3, 3, 3, 4, 4, 4, 4]\n",
      "Element Counts: {1: 1, 2: 2, 3: 3, 4: 4}\n"
     ]
    }
   ],
   "source": [
    "#Q13. Create a code to count the occurrences of each element in a list and return a dictionary with elements as keys and their counts as values?\n",
    "\n",
    "def count_occurrences(lst):\n",
    "    # Initialize an empty dictionary to store the counts\n",
    "    counts = {}\n",
    "    \n",
    "    # Iterate through the list\n",
    "    for element in lst:\n",
    "        if element in counts:\n",
    "            counts[element] += 1\n",
    "        else:\n",
    "            counts[element] = 1\n",
    "    \n",
    "    return counts\n",
    "\n",
    "# Example usage\n",
    "input_list = [1, 2, 2, 3, 3, 3, 4, 4, 4, 4]\n",
    "result = count_occurrences(input_list)\n",
    "print(\"Input List:\", input_list)\n",
    "print(\"Element Counts:\", result)\n"
   ]
  },
  {
   "cell_type": "code",
   "execution_count": 26,
   "id": "3c0e1f93-c77f-48ca-933e-ed76d92f085e",
   "metadata": {},
   "outputs": [
    {
     "name": "stdout",
     "output_type": "stream",
     "text": [
      "Original List: [1, 2, 3, 4, 5]\n",
      "Reversed List: [5, 4, 3, 2, 1]\n"
     ]
    }
   ],
   "source": [
    "#Q14. Write a code to reverse a list in-place without using any built-in reverse functions?\n",
    "\n",
    "def reverse_list_in_place(lst):\n",
    "    left = 0\n",
    "    right = len(lst) - 1\n",
    "\n",
    "    while left < right:\n",
    "        # Swap the elements at the left and right indices\n",
    "        lst[left], lst[right] = lst[right], lst[left]\n",
    "        # Move towards the center\n",
    "        left += 1\n",
    "        right -= 1\n",
    "\n",
    "# Example usage\n",
    "input_list = [1, 2, 3, 4, 5]\n",
    "print(\"Original List:\", input_list)\n",
    "reverse_list_in_place(input_list)\n",
    "print(\"Reversed List:\", input_list)\n"
   ]
  },
  {
   "cell_type": "code",
   "execution_count": 28,
   "id": "df46e263-8962-4674-8818-b1ebd43cb6ce",
   "metadata": {},
   "outputs": [
    {
     "name": "stdout",
     "output_type": "stream",
     "text": [
      "Original List: [1, 2, 2, 3, 4, 3, 5, 1, 6]\n",
      "List after Removing Duplicates: [1, 2, 3, 4, 5, 6]\n"
     ]
    }
   ],
   "source": [
    "#Q15. Implement a code to find and remove duplicates from a list while preserving the original order of elements?\n",
    "\n",
    "def remove_duplicates_preserve_order(lst):\n",
    "    seen = set()\n",
    "    result = []\n",
    "    \n",
    "    for item in lst:\n",
    "        if item not in seen:\n",
    "            result.append(item)\n",
    "            seen.add(item)\n",
    "    \n",
    "    return result\n",
    "\n",
    "# Example usage\n",
    "input_list = [1, 2, 2, 3, 4, 3, 5, 1, 6]\n",
    "result = remove_duplicates_preserve_order(input_list)\n",
    "print(\"Original List:\", input_list)\n",
    "print(\"List after Removing Duplicates:\", result)\n"
   ]
  },
  {
   "cell_type": "code",
   "execution_count": 30,
   "id": "272cb061-71de-407d-86a3-687f9b221d37",
   "metadata": {},
   "outputs": [
    {
     "name": "stdout",
     "output_type": "stream",
     "text": [
      "Is the list [1, 2, 3, 4, 5] sorted? True\n",
      "Is the list [5, 4, 3, 2, 1] sorted? True\n",
      "Is the list [1, 3, 2, 4, 5] sorted? False\n"
     ]
    }
   ],
   "source": [
    "#Q16. Create a code to check if a given list is sorted (either in ascending or descending order) or not?\n",
    "\n",
    "def is_sorted(lst):\n",
    "    # Check if the list is sorted in ascending order\n",
    "    ascending = all(lst[i] <= lst[i + 1] for i in range(len(lst) - 1))\n",
    "    \n",
    "    # Check if the list is sorted in descending order\n",
    "    descending = all(lst[i] >= lst[i + 1] for i in range(len(lst) - 1))\n",
    "    \n",
    "    return ascending or descending\n",
    "\n",
    "# Example usage\n",
    "input_list1 = [1, 2, 3, 4, 5]\n",
    "input_list2 = [5, 4, 3, 2, 1]\n",
    "input_list3 = [1, 3, 2, 4, 5]\n",
    "\n",
    "result1 = is_sorted(input_list1)\n",
    "result2 = is_sorted(input_list2)\n",
    "result3 = is_sorted(input_list3)\n",
    "\n",
    "print(f\"Is the list {input_list1} sorted? {result1}\")\n",
    "print(f\"Is the list {input_list2} sorted? {result2}\")\n",
    "print(f\"Is the list {input_list3} sorted? {result3}\")\n"
   ]
  },
  {
   "cell_type": "code",
   "execution_count": 32,
   "id": "4ea4fb73-85b3-48a1-9175-2cad129562aa",
   "metadata": {},
   "outputs": [
    {
     "name": "stdout",
     "output_type": "stream",
     "text": [
      "Merged List: [1, 2, 3, 4, 5, 6, 7, 8]\n"
     ]
    }
   ],
   "source": [
    "#Q17.  Write a code to merge two sorted lists into a single sorted list? \n",
    "\n",
    "def merge_sorted_lists(list1, list2):\n",
    "    merged_list = []\n",
    "    i, j = 0, 0\n",
    "    \n",
    "    # Traverse both lists and append smaller element from either list to merged_list\n",
    "    while i < len(list1) and j < len(list2):\n",
    "        if list1[i] < list2[j]:\n",
    "            merged_list.append(list1[i])\n",
    "            i += 1\n",
    "        else:\n",
    "            merged_list.append(list2[j])\n",
    "            j += 1\n",
    "    \n",
    "    # If there are remaining elements in list1, append them\n",
    "    while i < len(list1):\n",
    "        merged_list.append(list1[i])\n",
    "        i += 1\n",
    "    \n",
    "    # If there are remaining elements in list2, append them\n",
    "    while j < len(list2):\n",
    "        merged_list.append(list2[j])\n",
    "        j += 1\n",
    "    \n",
    "    return merged_list\n",
    "\n",
    "# Example usage\n",
    "sorted_list1 = [1, 3, 5, 7]\n",
    "sorted_list2 = [2, 4, 6, 8]\n",
    "result = merge_sorted_lists(sorted_list1, sorted_list2)\n",
    "print(\"Merged List:\", result)\n"
   ]
  },
  {
   "cell_type": "code",
   "execution_count": 34,
   "id": "1a075773-6134-4bb4-a883-3af59d128206",
   "metadata": {},
   "outputs": [
    {
     "name": "stdout",
     "output_type": "stream",
     "text": [
      "List 1: [1, 2, 3, 4, 5]\n",
      "List 2: [4, 5, 6, 7, 8]\n",
      "Intersection: [4, 5]\n"
     ]
    }
   ],
   "source": [
    "#Q18. Implement a code to find the intersection of two given lists?\n",
    "\n",
    "def intersection(list1, list2):\n",
    "    # Convert both lists to sets to find common elements\n",
    "    set1 = set(list1)\n",
    "    set2 = set(list2)\n",
    "    \n",
    "    # Find the intersection of the two sets\n",
    "    intersected_set = set1.intersection(set2)\n",
    "    \n",
    "    # Convert the intersection set back to a list\n",
    "    return list(intersected_set)\n",
    "\n",
    "# Example usage\n",
    "list1 = [1, 2, 3, 4, 5]\n",
    "list2 = [4, 5, 6, 7, 8]\n",
    "result = intersection(list1, list2)\n",
    "print(\"List 1:\", list1)\n",
    "print(\"List 2:\", list2)\n",
    "print(\"Intersection:\", result)\n"
   ]
  },
  {
   "cell_type": "code",
   "execution_count": 36,
   "id": "6e81f24c-a899-4e3e-9b42-d5c69055e737",
   "metadata": {},
   "outputs": [
    {
     "name": "stdout",
     "output_type": "stream",
     "text": [
      "List 1: [1, 2, 3, 4, 5]\n",
      "List 2: [4, 5, 6, 7, 8]\n",
      "Union without Duplicates: [1, 2, 3, 4, 5, 6, 7, 8]\n"
     ]
    }
   ],
   "source": [
    "#Q19. Create a code to find the union of two lists without duplicates?\n",
    "\n",
    "def union_without_duplicates(list1, list2):\n",
    "    # Convert both lists to sets and find their union\n",
    "    union_set = set(list1).union(set(list2))\n",
    "    \n",
    "    # Convert the union set back to a list\n",
    "    return list(union_set)\n",
    "\n",
    "# Example usage\n",
    "list1 = [1, 2, 3, 4, 5]\n",
    "list2 = [4, 5, 6, 7, 8]\n",
    "result = union_without_duplicates(list1, list2)\n",
    "print(\"List 1:\", list1)\n",
    "print(\"List 2:\", list2)\n",
    "print(\"Union without Duplicates:\", result)\n"
   ]
  },
  {
   "cell_type": "code",
   "execution_count": 38,
   "id": "3e16b8a2-4ef4-43b2-9160-9dfac3eb9a80",
   "metadata": {},
   "outputs": [
    {
     "name": "stdout",
     "output_type": "stream",
     "text": [
      "Original List: [1, 2, 3, 4, 5]\n",
      "Shuffled List: [1, 5, 2, 4, 3]\n"
     ]
    }
   ],
   "source": [
    "#Q20. Write a code to shuffle a given list randomly without using any built-in shuffle functions?\n",
    "\n",
    "import random\n",
    "\n",
    "def shuffle_list(lst):\n",
    "    n = len(lst)\n",
    "    for i in range(n - 1, 0, -1):\n",
    "        j = random.randint(0, i)\n",
    "        lst[i], lst[j] = lst[j], lst[i]\n",
    "\n",
    "# Example usage\n",
    "input_list = [1, 2, 3, 4, 5]\n",
    "print(\"Original List:\", input_list)\n",
    "shuffle_list(input_list)\n",
    "print(\"Shuffled List:\", input_list)\n"
   ]
  },
  {
   "cell_type": "code",
   "execution_count": 40,
   "id": "d87b8299-58eb-46ec-9ead-ab9da780869f",
   "metadata": {},
   "outputs": [
    {
     "name": "stdout",
     "output_type": "stream",
     "text": [
      "Tuple 1: (1, 2, 3, 4, 5)\n",
      "Tuple 2: (4, 5, 6, 7, 8)\n",
      "Common Elements Tuple: (4, 5)\n"
     ]
    }
   ],
   "source": [
    "#Q21. Write a code that takes two tuples as input and returns a new tuple containing elements that are common to both input tuples?\n",
    "\n",
    "def common_elements(tuple1, tuple2):\n",
    "    # Convert both tuples to sets to find common elements\n",
    "    set1 = set(tuple1)\n",
    "    set2 = set(tuple2)\n",
    "    \n",
    "    # Find the intersection of the two sets\n",
    "    common_set = set1.intersection(set2)\n",
    "    \n",
    "    # Convert the common elements set back to a tuple\n",
    "    return tuple(common_set)\n",
    "\n",
    "# Example usage\n",
    "tuple1 = (1, 2, 3, 4, 5)\n",
    "tuple2 = (4, 5, 6, 7, 8)\n",
    "result = common_elements(tuple1, tuple2)\n",
    "print(\"Tuple 1:\", tuple1)\n",
    "print(\"Tuple 2:\", tuple2)\n",
    "print(\"Common Elements Tuple:\", result)\n"
   ]
  },
  {
   "cell_type": "code",
   "execution_count": 42,
   "id": "1dcc4f38-e47a-4ebb-92d3-92dadbbf6519",
   "metadata": {},
   "outputs": [
    {
     "name": "stdout",
     "output_type": "stream",
     "text": [
      "Enter two sets of integers separated by commas.\n"
     ]
    },
    {
     "name": "stdin",
     "output_type": "stream",
     "text": [
      "Enter first set:  1,2,3,4\n",
      "Enter second set:  3,4,5,6\n"
     ]
    },
    {
     "name": "stdout",
     "output_type": "stream",
     "text": [
      "Intersection of the two sets: {3, 4}\n"
     ]
    }
   ],
   "source": [
    "#Q22. Create a code that prompts the user to enter two sets of integers separated by commas. Then, print the intersection of these two sets?\n",
    "\n",
    "def get_set_from_input(prompt):\n",
    "    user_input = input(prompt)\n",
    "    return set(map(int, user_input.split(',')))\n",
    "\n",
    "def main():\n",
    "    print(\"Enter two sets of integers separated by commas.\")\n",
    "    set1 = get_set_from_input(\"Enter first set: \")\n",
    "    set2 = get_set_from_input(\"Enter second set: \")\n",
    "\n",
    "    intersection = set1.intersection(set2)\n",
    "    print(\"Intersection of the two sets:\", intersection)\n",
    "\n",
    "if __name__ == \"__main__\":\n",
    "    main()\n"
   ]
  },
  {
   "cell_type": "code",
   "execution_count": null,
   "id": "e1079d8b-ea1f-470d-938f-e48f931940e5",
   "metadata": {},
   "outputs": [],
   "source": [
    "#Q23. Write a code to concatenate two tuples. The function should take two tuples as input and return a new tuple containing elements from both input tuples?\n",
    "\n",
    "def concatenate_tuples(tuple1, tuple2):\n",
    "    return tuple1 + tuple2\n",
    "\n",
    "# Example usage\n",
    "tuple1 = (1, 2, 3)\n",
    "tuple2 = (4, 5, 6)\n",
    "result = concatenate_tuples(tuple1, tuple2)\n",
    "print(\"Tuple 1:\", tuple1)\n",
    "print(\"Tuple 2:\", tuple2)\n",
    "print(\"Concatenated Tuple:\", result)\n",
    "#"
   ]
  },
  {
   "cell_type": "code",
   "execution_count": 44,
   "id": "958c261a-46d8-4949-a273-24e991f0d1f5",
   "metadata": {},
   "outputs": [
    {
     "name": "stdout",
     "output_type": "stream",
     "text": [
      "Enter two sets of strings separated by commas.\n"
     ]
    },
    {
     "name": "stdin",
     "output_type": "stream",
     "text": [
      "Enter first set:  apple,banana,orange\n",
      "Enter second set:  banana,grape\n"
     ]
    },
    {
     "name": "stdout",
     "output_type": "stream",
     "text": [
      "Elements in the first set but not in the second set: {'orange', 'apple'}\n"
     ]
    }
   ],
   "source": [
    "#Q24.  Develop a code that prompts the user to input two sets of strings. Then, print the elements that are present in the first set but not in the second set ?\n",
    "\n",
    "def get_set_from_input(prompt):\n",
    "    user_input = input(prompt)\n",
    "    # Split the input by commas and create a set\n",
    "    return set(user_input.split(','))\n",
    "\n",
    "def main():\n",
    "    print(\"Enter two sets of strings separated by commas.\")\n",
    "    set1 = get_set_from_input(\"Enter first set: \")\n",
    "    set2 = get_set_from_input(\"Enter second set: \")\n",
    "\n",
    "    difference = set1 - set2\n",
    "    print(\"Elements in the first set but not in the second set:\", difference)\n",
    "\n",
    "if __name__ == \"__main__\":\n",
    "    main()\n"
   ]
  },
  {
   "cell_type": "code",
   "execution_count": 46,
   "id": "911695ab-c859-4749-80b7-cfd0241850ff",
   "metadata": {},
   "outputs": [
    {
     "name": "stdout",
     "output_type": "stream",
     "text": [
      "Original Tuple: (10, 20, 30, 40, 50, 60, 70)\n",
      "Start Index: 2\n",
      "End Index: 5\n",
      "Subtuple: (30, 40, 50)\n"
     ]
    }
   ],
   "source": [
    "#Q25. Create a code that takes a tuple and two integers as input. The function should return a new tuple containing elements from the original tuple within the specified range of indices ?\n",
    "\n",
    "def extract_subtuple(t, start_index, end_index):\n",
    "    # Ensure the indices are within the valid range\n",
    "    if start_index < 0 or end_index > len(t) or start_index > end_index:\n",
    "        return ()\n",
    "\n",
    "    # Extract the subtuple using slicing\n",
    "    return t[start_index:end_index]\n",
    "\n",
    "# Example usage\n",
    "original_tuple = (10, 20, 30, 40, 50, 60, 70)\n",
    "start = 2\n",
    "end = 5\n",
    "result = extract_subtuple(original_tuple, start, end)\n",
    "print(\"Original Tuple:\", original_tuple)\n",
    "print(\"Start Index:\", start)\n",
    "print(\"End Index:\", end)\n",
    "print(\"Subtuple:\", result)\n"
   ]
  },
  {
   "cell_type": "code",
   "execution_count": 48,
   "id": "75744311-82a6-4657-8f99-65ee8632b112",
   "metadata": {},
   "outputs": [
    {
     "name": "stdout",
     "output_type": "stream",
     "text": [
      "Enter two sets of characters separated by commas.\n"
     ]
    },
    {
     "name": "stdin",
     "output_type": "stream",
     "text": [
      "Enter first set:  a,b,c,d\n",
      "Enter second set:  c,d,e,f\n"
     ]
    },
    {
     "name": "stdout",
     "output_type": "stream",
     "text": [
      "Union of the two sets: {'a', 'd', 'f', 'c', 'e', 'b'}\n"
     ]
    }
   ],
   "source": [
    "#Q26. Write a code that prompts the user to input two sets of characters. Then, print the union of these two sets ?\n",
    "\n",
    "def get_set_from_input(prompt):\n",
    "    user_input = input(prompt)\n",
    "    # Split the input by commas and create a set\n",
    "    return set(user_input.split(','))\n",
    "\n",
    "def main():\n",
    "    print(\"Enter two sets of characters separated by commas.\")\n",
    "    set1 = get_set_from_input(\"Enter first set: \")\n",
    "    set2 = get_set_from_input(\"Enter second set: \")\n",
    "\n",
    "    union_set = set1.union(set2)\n",
    "    print(\"Union of the two sets:\", union_set)\n",
    "\n",
    "if __name__ == \"__main__\":\n",
    "    main()\n"
   ]
  },
  {
   "cell_type": "code",
   "execution_count": 50,
   "id": "ce3c10e0-51a8-4b44-a259-f34e98f4a506",
   "metadata": {},
   "outputs": [
    {
     "name": "stdout",
     "output_type": "stream",
     "text": [
      "Input Tuple: (10, 45, 32, 67, 23, 89, 3)\n",
      "Maximum Value: 89\n",
      "Minimum Value: 3\n"
     ]
    }
   ],
   "source": [
    "#Q27.Develop a code that takes a tuple of integers as input. The function should return the maximum and minimum values from the tuple using tuple unpacking?\n",
    "\n",
    "def find_max_min(t):\n",
    "    if not t:\n",
    "        return None, None  # Return None for both if the tuple is empty\n",
    "\n",
    "    max_val, min_val = t[0], t[0]\n",
    "    \n",
    "    for num in t[1:]:\n",
    "        if num > max_val:\n",
    "            max_val = num\n",
    "        if num < min_val:\n",
    "            min_val = num\n",
    "    \n",
    "    return max_val, min_val\n",
    "\n",
    "# Example usage\n",
    "input_tuple = (10, 45, 32, 67, 23, 89, 3)\n",
    "max_value, min_value = find_max_min(input_tuple)\n",
    "print(\"Input Tuple:\", input_tuple)\n",
    "print(\"Maximum Value:\", max_value)\n",
    "print(\"Minimum Value:\", min_value)\n"
   ]
  },
  {
   "cell_type": "code",
   "execution_count": 52,
   "id": "8fee741c-b497-4e94-a306-420c9cff65de",
   "metadata": {},
   "outputs": [
    {
     "name": "stdout",
     "output_type": "stream",
     "text": [
      "Set 1: {1, 2, 3, 4, 5}\n",
      "Set 2: {4, 5, 6, 7, 8}\n",
      "Union: {1, 2, 3, 4, 5, 6, 7, 8}\n",
      "Intersection: {4, 5}\n",
      "Difference (Set 1 - Set 2): {1, 2, 3}\n"
     ]
    }
   ],
   "source": [
    "#Q28.  Create a code that defines two sets of integers. Then, print the union, intersection, and difference of these two sets?\n",
    "\n",
    "def main():\n",
    "    # Define two sets of integers\n",
    "    set1 = {1, 2, 3, 4, 5}\n",
    "    set2 = {4, 5, 6, 7, 8}\n",
    "    \n",
    "    # Calculate union\n",
    "    union_set = set1.union(set2)\n",
    "    \n",
    "    # Calculate intersection\n",
    "    intersection_set = set1.intersection(set2)\n",
    "    \n",
    "    # Calculate difference (elements in set1 but not in set2)\n",
    "    difference_set = set1.difference(set2)\n",
    "    \n",
    "    # Print the results\n",
    "    print(\"Set 1:\", set1)\n",
    "    print(\"Set 2:\", set2)\n",
    "    print(\"Union:\", union_set)\n",
    "    print(\"Intersection:\", intersection_set)\n",
    "    print(\"Difference (Set 1 - Set 2):\", difference_set)\n",
    "\n",
    "if __name__ == \"__main__\":\n",
    "    main()\n"
   ]
  },
  {
   "cell_type": "code",
   "execution_count": 54,
   "id": "568de2c3-5568-4067-887f-63975a0faf91",
   "metadata": {},
   "outputs": [
    {
     "name": "stdout",
     "output_type": "stream",
     "text": [
      "Input Tuple: (1, 2, 3, 2, 4, 2, 5)\n",
      "Element to Count: 2\n",
      "Count of Occurrences: 3\n"
     ]
    }
   ],
   "source": [
    "#29.  Write a code that takes a tuple and an element as input. The function should return the count of occurrences of the given element in the tuple?\n",
    "\n",
    "def count_occurrences(t, element):\n",
    "    return t.count(element)\n",
    "\n",
    "# Example usage\n",
    "input_tuple = (1, 2, 3, 2, 4, 2, 5)\n",
    "element_to_count = 2\n",
    "result = count_occurrences(input_tuple, element_to_count)\n",
    "print(\"Input Tuple:\", input_tuple)\n",
    "print(\"Element to Count:\", element_to_count)\n",
    "print(\"Count of Occurrences:\", result)\n"
   ]
  },
  {
   "cell_type": "code",
   "execution_count": 56,
   "id": "ecac6a3b-fcc0-4d84-89c1-42b27d141458",
   "metadata": {},
   "outputs": [
    {
     "name": "stdout",
     "output_type": "stream",
     "text": [
      "Enter two sets of strings separated by commas.\n"
     ]
    },
    {
     "name": "stdin",
     "output_type": "stream",
     "text": [
      "Enter first set:  apple,banana,orange\n",
      "Enter second set:  banana,grape,orange\n"
     ]
    },
    {
     "name": "stdout",
     "output_type": "stream",
     "text": [
      "Symmetric Difference of the two sets: {'apple', 'grape'}\n"
     ]
    }
   ],
   "source": [
    "#30. & Develop a code that prompts the user to input two sets of strings. Then, print the symmetric difference of these two sets?\n",
    "\n",
    "def get_set_from_input(prompt):\n",
    "    user_input = input(prompt)\n",
    "    # Split the input by commas and create a set\n",
    "    return set(user_input.split(','))\n",
    "\n",
    "def main():\n",
    "    print(\"Enter two sets of strings separated by commas.\")\n",
    "    set1 = get_set_from_input(\"Enter first set: \")\n",
    "    set2 = get_set_from_input(\"Enter second set: \")\n",
    "\n",
    "    symmetric_difference = set1.symmetric_difference(set2)\n",
    "    print(\"Symmetric Difference of the two sets:\", symmetric_difference)\n",
    "\n",
    "if __name__ == \"__main__\":\n",
    "    main()\n"
   ]
  },
  {
   "cell_type": "code",
   "execution_count": 58,
   "id": "680df4c0-c315-4636-b576-25bf240b9a26",
   "metadata": {},
   "outputs": [
    {
     "name": "stdout",
     "output_type": "stream",
     "text": [
      "Input List of Words: ['apple', 'banana', 'apple', 'orange', 'banana', 'apple']\n",
      "Word Frequencies: {'apple': 3, 'banana': 2, 'orange': 1}\n"
     ]
    }
   ],
   "source": [
    "#Q31.& Write a code that takes a list of words as input and returns a dictionary where the keys are unique words and the values are the frequencies of those words in the input list?\n",
    "\n",
    "def count_word_frequencies(words):\n",
    "    # Initialize an empty dictionary to store word counts\n",
    "    word_counts = {}\n",
    "    \n",
    "    # Iterate through the list of words\n",
    "    for word in words:\n",
    "        if word in word_counts:\n",
    "            word_counts[word] += 1\n",
    "        else:\n",
    "            word_counts[word] = 1\n",
    "    \n",
    "    return word_counts\n",
    "\n",
    "# Example usage\n",
    "input_words = [\"apple\", \"banana\", \"apple\", \"orange\", \"banana\", \"apple\"]\n",
    "result = count_word_frequencies(input_words)\n",
    "print(\"Input List of Words:\", input_words)\n",
    "print(\"Word Frequencies:\", result)\n"
   ]
  },
  {
   "cell_type": "code",
   "execution_count": 60,
   "id": "a6ae076b-4cc7-4d22-a748-cca822b3c48e",
   "metadata": {},
   "outputs": [
    {
     "name": "stdout",
     "output_type": "stream",
     "text": [
      "Dictionary 1: {'a': 1, 'b': 2, 'c': 3}\n",
      "Dictionary 2: {'b': 3, 'c': 4, 'd': 5}\n",
      "Merged Dictionary: {'a': 1, 'b': 5, 'c': 7, 'd': 5}\n"
     ]
    }
   ],
   "source": [
    "#Q32. Write a code that takes two dictionaries as input and merges them into a single dictionary. If there are common keys, the values should be added together?\n",
    "\n",
    "def merge_dictionaries(dict1, dict2):\n",
    "    merged_dict = dict1.copy()  # Start with a copy of the first dictionary\n",
    "    \n",
    "    for key, value in dict2.items():\n",
    "        if key in merged_dict:\n",
    "            merged_dict[key] += value  # Add values for common keys\n",
    "        else:\n",
    "            merged_dict[key] = value  # Add new key-value pairs\n",
    "    \n",
    "    return merged_dict\n",
    "\n",
    "# Example usage\n",
    "dict1 = {'a': 1, 'b': 2, 'c': 3}\n",
    "dict2 = {'b': 3, 'c': 4, 'd': 5}\n",
    "result = merge_dictionaries(dict1, dict2)\n",
    "print(\"Dictionary 1:\", dict1)\n",
    "print(\"Dictionary 2:\", dict2)\n",
    "print(\"Merged Dictionary:\", result)\n"
   ]
  },
  {
   "cell_type": "code",
   "execution_count": 62,
   "id": "9f165100-5d51-4d08-b1f8-eeda10090660",
   "metadata": {},
   "outputs": [
    {
     "name": "stdout",
     "output_type": "stream",
     "text": [
      "Nested Dictionary: {'a': {'b': {'c': 42}}}\n",
      "Keys: ['a', 'b', 'c']\n",
      "Value: 42\n",
      "Keys: ['a', 'x', 'c']\n",
      "Value: None\n"
     ]
    }
   ],
   "source": [
    "#Q33. Write a code to access a value in a nested dictionary. The function should take the dictionary and a list of keys as input, and return the corresponding value. If any of the keys do not exist in the dictionary, the function should return None?\n",
    "\n",
    "def get_nested_value(d, keys):\n",
    "    current_value = d\n",
    "    try:\n",
    "        for key in keys:\n",
    "            current_value = current_value[key]\n",
    "        return current_value\n",
    "    except KeyError:\n",
    "        return None\n",
    "\n",
    "# Example usage\n",
    "nested_dict = {\n",
    "    'a': {\n",
    "        'b': {\n",
    "            'c': 42\n",
    "        }\n",
    "    }\n",
    "}\n",
    "\n",
    "keys = ['a', 'b', 'c']\n",
    "result = get_nested_value(nested_dict, keys)\n",
    "print(\"Nested Dictionary:\", nested_dict)\n",
    "print(\"Keys:\", keys)\n",
    "print(\"Value:\", result)\n",
    "\n",
    "keys = ['a', 'x', 'c']\n",
    "result = get_nested_value(nested_dict, keys)\n",
    "print(\"Keys:\", keys)\n",
    "print(\"Value:\", result)\n"
   ]
  },
  {
   "cell_type": "code",
   "execution_count": 64,
   "id": "6737a405-cb89-4e3f-ba3d-3a62249cace3",
   "metadata": {},
   "outputs": [
    {
     "name": "stdout",
     "output_type": "stream",
     "text": [
      "Original Dictionary: {'a': 3, 'b': 1, 'c': 2, 'd': 4}\n",
      "Sorted Dictionary (Ascending): {'b': 1, 'c': 2, 'a': 3, 'd': 4}\n",
      "Sorted Dictionary (Descending): {'d': 4, 'a': 3, 'c': 2, 'b': 1}\n"
     ]
    }
   ],
   "source": [
    "#Q34. Write a code that takes a dictionary as input and returns a sorted version of it based on the values. You can choose whether to sort in ascending or descending order?\n",
    "\n",
    "def sort_dict_by_values(d, ascending=True):\n",
    "    sorted_items = sorted(d.items(), key=lambda item: item[1], reverse=not ascending)\n",
    "    return dict(sorted_items)\n",
    "\n",
    "# Example usage\n",
    "input_dict = {'a': 3, 'b': 1, 'c': 2, 'd': 4}\n",
    "sorted_dict_ascending = sort_dict_by_values(input_dict, ascending=True)\n",
    "sorted_dict_descending = sort_dict_by_values(input_dict, ascending=False)\n",
    "\n",
    "print(\"Original Dictionary:\", input_dict)\n",
    "print(\"Sorted Dictionary (Ascending):\", sorted_dict_ascending)\n",
    "print(\"Sorted Dictionary (Descending):\", sorted_dict_descending)\n"
   ]
  },
  {
   "cell_type": "code",
   "execution_count": 66,
   "id": "cc7b47bd-5ef2-4381-b72a-4bb17946ad51",
   "metadata": {},
   "outputs": [
    {
     "name": "stdout",
     "output_type": "stream",
     "text": [
      "Original Dictionary: {'a': 1, 'b': 2, 'c': 1, 'd': 3}\n",
      "Inverted Dictionary: {1: ['a', 'c'], 2: ['b'], 3: ['d']}\n"
     ]
    }
   ],
   "source": [
    "#Q35. Write a code that inverts a dictionary, swapping keys and values. Ensure that the inverted dictionary correctly handles cases where multiple keys have the same value by storing the keys as a list in the inverted dictionary?\n",
    "\n",
    "def invert_dictionary(d):\n",
    "    inverted_dict = {}\n",
    "    \n",
    "    for key, value in d.items():\n",
    "        if value in inverted_dict:\n",
    "            inverted_dict[value].append(key)\n",
    "        else:\n",
    "            inverted_dict[value] = [key]\n",
    "    \n",
    "    return inverted_dict\n",
    "\n",
    "# Example usage\n",
    "input_dict = {'a': 1, 'b': 2, 'c': 1, 'd': 3}\n",
    "result = invert_dictionary(input_dict)\n",
    "print(\"Original Dictionary:\", input_dict)\n",
    "print(\"Inverted Dictionary:\", result)\n"
   ]
  },
  {
   "cell_type": "code",
   "execution_count": null,
   "id": "625bec53-b52f-420b-8a05-f3415f224e45",
   "metadata": {},
   "outputs": [],
   "source": []
  }
 ],
 "metadata": {
  "kernelspec": {
   "display_name": "Python 3 (ipykernel)",
   "language": "python",
   "name": "python3"
  },
  "language_info": {
   "codemirror_mode": {
    "name": "ipython",
    "version": 3
   },
   "file_extension": ".py",
   "mimetype": "text/x-python",
   "name": "python",
   "nbconvert_exporter": "python",
   "pygments_lexer": "ipython3",
   "version": "3.12.4"
  }
 },
 "nbformat": 4,
 "nbformat_minor": 5
}
